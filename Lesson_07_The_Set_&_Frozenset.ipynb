{
  "nbformat": 4,
  "nbformat_minor": 0,
  "metadata": {
    "colab": {
      "provenance": [],
      "authorship_tag": "ABX9TyMhBhK+KqS/TCWu03gjYiW8",
      "include_colab_link": true
    },
    "kernelspec": {
      "name": "python3",
      "display_name": "Python 3"
    },
    "language_info": {
      "name": "python"
    }
  },
  "cells": [
    {
      "cell_type": "markdown",
      "metadata": {
        "id": "view-in-github",
        "colab_type": "text"
      },
      "source": [
        "<a href=\"https://colab.research.google.com/github/Alveenawaqar01/Python-Class-03-Assignment-/blob/main/Lesson_07_The_Set_%26_Frozenset.ipynb\" target=\"_parent\"><img src=\"https://colab.research.google.com/assets/colab-badge.svg\" alt=\"Open In Colab\"/></a>"
      ]
    },
    {
      "cell_type": "markdown",
      "source": [
        "**The Set & Frozenset**"
      ],
      "metadata": {
        "id": "Mh_OzSnWnoFb"
      }
    },
    {
      "cell_type": "code",
      "source": [
        "my_set = set([1, 2, 3])\n",
        "print(my_set)\n"
      ],
      "metadata": {
        "colab": {
          "base_uri": "https://localhost:8080/"
        },
        "id": "wsAlR6RHnwE3",
        "outputId": "27dabd65-8daa-4910-bf78-539b63a6759e"
      },
      "execution_count": 1,
      "outputs": [
        {
          "output_type": "stream",
          "name": "stdout",
          "text": [
            "{1, 2, 3}\n"
          ]
        }
      ]
    },
    {
      "cell_type": "code",
      "source": [
        "\n",
        "frozen_set1 = frozenset([1, 2, 3])\n",
        "frozen_set2 = frozenset([4, 5, 6])\n",
        "\n",
        "dict_with_frozen = {frozen_set1: \"Set 1\", frozen_set2: \"Set 2\"}\n",
        "print(dict_with_frozen)\n"
      ],
      "metadata": {
        "colab": {
          "base_uri": "https://localhost:8080/"
        },
        "id": "NFLmLLEkocG5",
        "outputId": "4d3b6192-a16b-42d0-e912-b7957c25af11"
      },
      "execution_count": 4,
      "outputs": [
        {
          "output_type": "stream",
          "name": "stdout",
          "text": [
            "{frozenset({1, 2, 3}): 'Set 1', frozenset({4, 5, 6}): 'Set 2'}\n"
          ]
        }
      ]
    },
    {
      "cell_type": "code",
      "source": [
        "\n",
        "numbers = [1, 2, 2, 3, 4, 4, 5]\n",
        "\n",
        "unique_numbers = set(numbers)\n",
        "\n",
        "print(unique_numbers)\n"
      ],
      "metadata": {
        "colab": {
          "base_uri": "https://localhost:8080/"
        },
        "id": "lC00Zf5XoIHF",
        "outputId": "9d7e9e51-983f-4a8a-9776-03ee8176ad10"
      },
      "execution_count": 3,
      "outputs": [
        {
          "output_type": "stream",
          "name": "stdout",
          "text": [
            "{1, 2, 3, 4, 5}\n"
          ]
        }
      ]
    }
  ]
}