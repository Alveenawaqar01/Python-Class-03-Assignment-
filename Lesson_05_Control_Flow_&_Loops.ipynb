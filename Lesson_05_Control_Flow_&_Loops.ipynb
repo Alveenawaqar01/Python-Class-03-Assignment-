{
  "nbformat": 4,
  "nbformat_minor": 0,
  "metadata": {
    "colab": {
      "provenance": [],
      "authorship_tag": "ABX9TyPveR6vvME9K9CATn3D9pcR",
      "include_colab_link": true
    },
    "kernelspec": {
      "name": "python3",
      "display_name": "Python 3"
    },
    "language_info": {
      "name": "python"
    }
  },
  "cells": [
    {
      "cell_type": "markdown",
      "metadata": {
        "id": "view-in-github",
        "colab_type": "text"
      },
      "source": [
        "<a href=\"https://colab.research.google.com/github/Alveenawaqar01/Python-Class-03-Assignment-/blob/main/Lesson_05_Control_Flow_%26_Loops.ipynb\" target=\"_parent\"><img src=\"https://colab.research.google.com/assets/colab-badge.svg\" alt=\"Open In Colab\"/></a>"
      ]
    },
    {
      "cell_type": "code",
      "source": [
        "chocolates = 10\n",
        "\n",
        "if chocolates > 11:\n",
        "    print(\"lets eats chocolates\")\n",
        "else:\n",
        "    print(\"no problems\")"
      ],
      "metadata": {
        "colab": {
          "base_uri": "https://localhost:8080/"
        },
        "id": "njz67RwQDzvo",
        "outputId": "3ec63805-a25c-4088-a78d-31014355e4ed"
      },
      "execution_count": null,
      "outputs": [
        {
          "output_type": "stream",
          "name": "stdout",
          "text": [
            "no problems\n"
          ]
        }
      ]
    },
    {
      "cell_type": "code",
      "source": [
        "ice_cream = \"vanilla\"\n",
        "\n",
        "if ice_cream == \"vanila\":\n",
        "  print(\"i like it vanillla icecream\")\n",
        "else:\n",
        "  print(\"ohh i dont like it\")"
      ],
      "metadata": {
        "colab": {
          "base_uri": "https://localhost:8080/"
        },
        "id": "mh-lPGj5Hwgf",
        "outputId": "85d48e35-ec45-4026-df39-e8801eb2d1bb"
      },
      "execution_count": null,
      "outputs": [
        {
          "output_type": "stream",
          "name": "stdout",
          "text": [
            "ohh i dont like it\n"
          ]
        }
      ]
    },
    {
      "cell_type": "code",
      "source": [
        "marks = 100\n",
        "\n",
        "if marks >= 90:\n",
        "  print(\"Tm genius ho\")\n",
        "elif marks >= 60:\n",
        "  print(\"tm ache marks laye ho\")\n",
        "else:\n",
        "  print(\"best luck of next time\")"
      ],
      "metadata": {
        "colab": {
          "base_uri": "https://localhost:8080/"
        },
        "id": "6M4rS9MmJ5Rf",
        "outputId": "590cace5-1799-4a26-fb95-c912eb776c50"
      },
      "execution_count": null,
      "outputs": [
        {
          "output_type": "stream",
          "name": "stdout",
          "text": [
            "Tm genius ho\n"
          ]
        }
      ]
    },
    {
      "cell_type": "code",
      "source": [
        "color = \"black\"\n",
        "\n",
        "if color == \"red\":\n",
        "   print(\"Tmhe red color pasand hai\")\n",
        "elif color == \"blue\":\n",
        "   print(\"Tmhe blue color pasand hai\")\n",
        "elif color == \"green\":\n",
        "     print(\"Tmhe green color pasand hai\")\n",
        "elif color == \"black\":\n",
        "     print(\"Tmhe red color pasand hai\")\n",
        "else:\n",
        "   print(\"Tmhe koi sa bh color nh  pasand hai\")\n",
        "\n",
        "\n"
      ],
      "metadata": {
        "colab": {
          "base_uri": "https://localhost:8080/"
        },
        "id": "ZntLA39YMODc",
        "outputId": "3277a0ec-5bee-420e-dae1-ddb67cb29bcb"
      },
      "execution_count": null,
      "outputs": [
        {
          "output_type": "stream",
          "name": "stdout",
          "text": [
            "Tmhe red color pasand hai\n"
          ]
        }
      ]
    },
    {
      "cell_type": "code",
      "source": [
        "pizza = \"cheese\"\n",
        "\n",
        "if pizza == \"pepperoni\":\n",
        "    print(\"Pepperoni pizza mil gaya!\")\n",
        "elif pizza == \"cheese\":\n",
        "    print(\"Cheese pizza mera favorite hai!\")\n",
        "elif pizza == \"veggie\":\n",
        "    print(\"Healthy choice! Veggie pizza!\")\n",
        "else:\n",
        "    print(\" yeh toh koi aur pizza hai!\")\n"
      ],
      "metadata": {
        "colab": {
          "base_uri": "https://localhost:8080/"
        },
        "id": "xeWBsyShNky7",
        "outputId": "b36a1d0e-22a4-45fe-e3ab-4397a31f83d1"
      },
      "execution_count": null,
      "outputs": [
        {
          "output_type": "stream",
          "name": "stdout",
          "text": [
            "Cheese pizza mera favorite hai!\n"
          ]
        }
      ]
    },
    {
      "cell_type": "code",
      "source": [
        "for i in range(1,10):\n",
        " print(i)"
      ],
      "metadata": {
        "colab": {
          "base_uri": "https://localhost:8080/"
        },
        "id": "RKazKBjBOC9E",
        "outputId": "40e4fe2c-235a-403a-85a7-84d80ea2302a"
      },
      "execution_count": null,
      "outputs": [
        {
          "output_type": "stream",
          "name": "stdout",
          "text": [
            "1\n",
            "2\n",
            "3\n",
            "4\n",
            "5\n"
          ]
        }
      ]
    },
    {
      "cell_type": "code",
      "source": [
        "for i in range (3):\n",
        "  print(\"Hello\")"
      ],
      "metadata": {
        "colab": {
          "base_uri": "https://localhost:8080/"
        },
        "id": "Yxwbqy24OeKh",
        "outputId": "b911e774-5531-479d-dd73-6b5548d3e347"
      },
      "execution_count": null,
      "outputs": [
        {
          "output_type": "stream",
          "name": "stdout",
          "text": [
            "Hello\n",
            "Hello\n",
            "Hello\n"
          ]
        }
      ]
    },
    {
      "cell_type": "code",
      "source": [
        "i = 1\n",
        "\n",
        "while i <= 5:\n",
        "    print(i)\n",
        "    i = i + 1\n"
      ],
      "metadata": {
        "id": "UCIVzx5BO3dF"
      },
      "execution_count": null,
      "outputs": []
    },
    {
      "cell_type": "code",
      "source": [
        "food_left = 3  # 3 bites bache hain\n",
        "\n",
        "while food_left > 5:\n",
        "    print(\"Kha raha hoon... 🍽️\")\n",
        "    food_left = food_left - 1\n",
        "\n",
        "print(\"Plate khaali! 😋\")\n"
      ],
      "metadata": {
        "colab": {
          "base_uri": "https://localhost:8080/"
        },
        "id": "NNmCPe4RQmUm",
        "outputId": "7d88fc34-2701-4cba-d369-7fc151c7dc54"
      },
      "execution_count": null,
      "outputs": [
        {
          "output_type": "stream",
          "name": "stdout",
          "text": [
            "Plate khaali! 😋\n"
          ]
        }
      ]
    },
    {
      "cell_type": "code",
      "source": [
        "while True:\n",
        "    number = int(input(\"Ek number daalo: \"))\n",
        "\n",
        "    if number < 0:\n",
        "        print(\"Negative number, loop band! 🛑\")\n",
        "        break  # Loop ko yahin rok denge agar negative number aaya\n",
        "    else:\n",
        "        print(f\"Number: {number}\")\n"
      ],
      "metadata": {
        "id": "CfeNap4lFXkw"
      },
      "execution_count": null,
      "outputs": []
    },
    {
      "cell_type": "code",
      "source": [
        "while True:\n",
        "  number = int(input(\"Add number:\"))\n",
        "\n",
        "  if number < 0:\n",
        "    print(\"nagative number stop loop\")\n",
        "    break\n",
        "  else:\n",
        "    print(f\"number:{number}\")"
      ],
      "metadata": {
        "id": "IxC3ca1oFZV4"
      },
      "execution_count": null,
      "outputs": []
    }
  ]
}