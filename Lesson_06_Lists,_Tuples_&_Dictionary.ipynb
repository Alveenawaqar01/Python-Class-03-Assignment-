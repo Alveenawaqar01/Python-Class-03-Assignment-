{
  "nbformat": 4,
  "nbformat_minor": 0,
  "metadata": {
    "colab": {
      "provenance": [],
      "authorship_tag": "ABX9TyMDDfZekUpCdlBSEg9MYdz8",
      "include_colab_link": true
    },
    "kernelspec": {
      "name": "python3",
      "display_name": "Python 3"
    },
    "language_info": {
      "name": "python"
    }
  },
  "cells": [
    {
      "cell_type": "markdown",
      "metadata": {
        "id": "view-in-github",
        "colab_type": "text"
      },
      "source": [
        "<a href=\"https://colab.research.google.com/github/Alveenawaqar01/Python-Class-03-Assignment-/blob/main/Lesson_06_Lists%2C_Tuples_%26_Dictionary.ipynb\" target=\"_parent\"><img src=\"https://colab.research.google.com/assets/colab-badge.svg\" alt=\"Open In Colab\"/></a>"
      ]
    },
    {
      "cell_type": "code",
      "execution_count": 2,
      "metadata": {
        "colab": {
          "base_uri": "https://localhost:8080/"
        },
        "id": "0SVrWHuEfkov",
        "outputId": "a9841448-08ac-42c2-8292-99a5d9d8b798"
      },
      "outputs": [
        {
          "output_type": "stream",
          "name": "stdout",
          "text": [
            "[1, 2, 3, 4, 5]\n"
          ]
        }
      ],
      "source": [
        "my_list = [1, 2, 3, 4, 5]\n",
        "print(my_list)"
      ]
    },
    {
      "cell_type": "code",
      "source": [
        "list = [\"orange\", \"apple\",\"grapes\"]\n",
        "print(list[0])\n",
        "print(list[1])\n",
        "list.append(\"kiwi\")\n",
        "print(list)"
      ],
      "metadata": {
        "colab": {
          "base_uri": "https://localhost:8080/"
        },
        "id": "9_15rrFagLzz",
        "outputId": "61760d8f-49e8-4a6e-9335-ae0ae7d898fb"
      },
      "execution_count": 4,
      "outputs": [
        {
          "output_type": "stream",
          "name": "stdout",
          "text": [
            "orange\n",
            "apple\n",
            "['orange', 'apple', 'grapes', 'kiwi']\n"
          ]
        }
      ]
    },
    {
      "cell_type": "markdown",
      "source": [
        "**Tuple with Different Data Types**"
      ],
      "metadata": {
        "id": "UKlURzx1iLIF"
      }
    },
    {
      "cell_type": "code",
      "source": [
        "person = (\"ellie\", 25, 5.9, True)\n",
        "\n",
        "print(\"Name:\", person[0])\n",
        "print(\"Age:\", person[1])\n",
        "print(\"Height:\", person[2])\n",
        "print(\"Is Student?\", person[3])\n"
      ],
      "metadata": {
        "colab": {
          "base_uri": "https://localhost:8080/"
        },
        "id": "-NzeknoRid1L",
        "outputId": "ae854f3e-4963-4f45-c712-1474243ce821"
      },
      "execution_count": 9,
      "outputs": [
        {
          "output_type": "stream",
          "name": "stdout",
          "text": [
            "Name: ellie\n",
            "Age: 25\n",
            "Height: 5.9\n",
            "Is Student? True\n"
          ]
        }
      ]
    },
    {
      "cell_type": "code",
      "source": [
        "colors = (\"red\", \"green\", \"blue\")\n",
        "\n",
        "for color in colors:\n",
        "    print(\"Color:\", color)\n"
      ],
      "metadata": {
        "colab": {
          "base_uri": "https://localhost:8080/"
        },
        "id": "kOIBWfD_i7Ij",
        "outputId": "22ca22bd-babe-4efc-9b0f-342d25b53da3"
      },
      "execution_count": 10,
      "outputs": [
        {
          "output_type": "stream",
          "name": "stdout",
          "text": [
            "Color: red\n",
            "Color: green\n",
            "Color: blue\n"
          ]
        }
      ]
    },
    {
      "cell_type": "markdown",
      "source": [
        "**Dictionaries in Python**"
      ],
      "metadata": {
        "id": "KEdwVjx0jaXJ"
      }
    },
    {
      "cell_type": "code",
      "source": [
        "my_dict = {\n",
        "   \"title\": \"Python Basics\",\n",
        "    \"author\": \"John\",\n",
        "    \"price\": 500\n",
        "}\n",
        "print(my_dict[\"title\"])\n"
      ],
      "metadata": {
        "colab": {
          "base_uri": "https://localhost:8080/"
        },
        "id": "ovCDnOEejfXR",
        "outputId": "6e598a06-23f7-4f5f-96ee-29fbbdbfd55e"
      },
      "execution_count": 15,
      "outputs": [
        {
          "output_type": "stream",
          "name": "stdout",
          "text": [
            "500\n"
          ]
        }
      ]
    },
    {
      "cell_type": "code",
      "source": [
        "car = {\n",
        "    \"brand\": \"Toyota\",\n",
        "    \"model\": \"Corolla\",\n",
        "    \"year\": 2025\n",
        "}\n",
        "\n",
        "for key, value in car.items():\n",
        "    print(key, \"=>\", value)\n"
      ],
      "metadata": {
        "colab": {
          "base_uri": "https://localhost:8080/"
        },
        "id": "NBDrM6GQmijB",
        "outputId": "8642dfc6-3a0f-4bdf-b43c-f56696595429"
      },
      "execution_count": 20,
      "outputs": [
        {
          "output_type": "stream",
          "name": "stdout",
          "text": [
            "brand => Toyota\n",
            "model => Corolla\n",
            "year => 2025\n"
          ]
        }
      ]
    },
    {
      "cell_type": "markdown",
      "source": [],
      "metadata": {
        "id": "B_KrbWvDm-nB"
      }
    }
  ]
}